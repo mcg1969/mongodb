{
 "cells": [
  {
   "cell_type": "markdown",
   "metadata": {},
   "source": [
    "# Mongodb + PELT + nag4py\n",
    "PELT changepoint analysis for a mongodb stock price collection using nag4py.\n",
    "\n",
    "Adapted from the original version available on [GitHub](https://github.com/numericalalgorithmsgroup/mongodb/).\n",
    "\n",
    "## Introduction\n",
    "This repository containts several files, which, when combined, give an example of detecting changepoints in a stock price where the data has come from a mongodb collection.\n",
    "The three key components of this example are:\n",
    "* mongodb Python API - pymongo\n",
    "* Killick et al's PELT algorithm for changepoint detection in n time.\n",
    "* nag4py which allows one to easily call the PELT algorithm."
   ]
  },
  {
   "cell_type": "markdown",
   "metadata": {
    "collapsed": true
   },
   "source": [
    "### Import python modules"
   ]
  },
  {
   "cell_type": "code",
   "execution_count": 1,
   "metadata": {
    "collapsed": true
   },
   "outputs": [],
   "source": [
    "import nag4py.g13 as g13\n",
    "import pandas as pd\n",
    "import numpy as np\n",
    "import nag4py.util as util\n",
    "import matplotlib.pyplot as plt\n",
    "import nag4py.e01 as e01\n",
    "import pymongo\n",
    "%matplotlib inline  "
   ]
  },
  {
   "cell_type": "markdown",
   "metadata": {},
   "source": [
    "## Create the MongoDB database\n",
    "\n",
    "This would already exist in a normal setup"
   ]
  },
  {
   "cell_type": "markdown",
   "metadata": {},
   "source": [
    "### Read in csv file downloaded from Yahoo historic stock prices\n",
    "\n",
    "We have stored the data file used in this demo on Anaconda Cloud:\n",
    "- https://anaconda.org/NAG/volkswagen_data/1/download/volkswagen.csv\n",
    "Pandas can read the data *directly*"
   ]
  },
  {
   "cell_type": "code",
   "execution_count": 4,
   "metadata": {
    "collapsed": false
   },
   "outputs": [],
   "source": [
    "url = 'https://anaconda.org/NAG/volkswagen_data/1/download/volkswagen.csv'\n",
    "data = pd.read_csv(url)"
   ]
  },
  {
   "cell_type": "markdown",
   "metadata": {},
   "source": [
    "### Convert date to datetime datatype and set as index"
   ]
  },
  {
   "cell_type": "code",
   "execution_count": null,
   "metadata": {
    "collapsed": false
   },
   "outputs": [],
   "source": [
    "data['Date'] = pd.to_datetime(data['Date'], format=\"%d/%m/%Y\")\n",
    "data = data.set_index('Date')"
   ]
  },
  {
   "cell_type": "markdown",
   "metadata": {},
   "source": [
    "### Open a connection to the mongo client. The client (mongod) must be running."
   ]
  },
  {
   "cell_type": "code",
   "execution_count": null,
   "metadata": {
    "collapsed": true
   },
   "outputs": [],
   "source": [
    "client = pymongo.MongoClient()"
   ]
  },
  {
   "cell_type": "markdown",
   "metadata": {},
   "source": [
    "### Select the Database"
   ]
  },
  {
   "cell_type": "code",
   "execution_count": null,
   "metadata": {
    "collapsed": true
   },
   "outputs": [],
   "source": [
    "db = client.stock"
   ]
  },
  {
   "cell_type": "markdown",
   "metadata": {},
   "source": [
    "### Load the specific collection"
   ]
  },
  {
   "cell_type": "code",
   "execution_count": null,
   "metadata": {
    "collapsed": false
   },
   "outputs": [],
   "source": [
    "collection = db['{}'.format(stock_name)]"
   ]
  },
  {
   "cell_type": "markdown",
   "metadata": {},
   "source": [
    "### Populate the collection (First we drop the collection so that it is empty)"
   ]
  },
  {
   "cell_type": "code",
   "execution_count": null,
   "metadata": {
    "collapsed": false
   },
   "outputs": [],
   "source": [
    "collection.drop()\n",
    "for date in data.index.values:\n",
    "    post = {\"Date\":\"{}\".format(date),\n",
    "           \"Close\":float(\"{}\".format(data.ix[date]['Close'])),\n",
    "           \"Adj Close\":float(\"{}\".format(data.ix[date]['Adj Close'])),\n",
    "           \"High\":float(\"{}\".format(data.ix[date]['High'])),\n",
    "           \"Low\":float(\"{}\".format(data.ix[date]['Low'])),\n",
    "           \"Open\":float(\"{}\".format(data.ix[date]['Open'])),\n",
    "           \"Volume\":float(\"{}\".format(data.ix[date]['Volume']))}\n",
    "    collection.insert_one(post).inserted_id"
   ]
  },
  {
   "cell_type": "markdown",
   "metadata": {},
   "source": [
    "## Read MongoDB data"
   ]
  },
  {
   "cell_type": "markdown",
   "metadata": {},
   "source": [
    "### Put Collection into DataFrame and set the 'Date' as the index"
   ]
  },
  {
   "cell_type": "code",
   "execution_count": null,
   "metadata": {
    "collapsed": false
   },
   "outputs": [],
   "source": [
    "data = pd.DataFrame(list(collection.find())).set_index('Date')"
   ]
  },
  {
   "cell_type": "markdown",
   "metadata": {},
   "source": [
    "### Change some datatypes"
   ]
  },
  {
   "cell_type": "code",
   "execution_count": null,
   "metadata": {
    "collapsed": false
   },
   "outputs": [],
   "source": [
    "data['_id'] = data['_id'].astype(str)"
   ]
  },
  {
   "cell_type": "code",
   "execution_count": null,
   "metadata": {
    "collapsed": false
   },
   "outputs": [],
   "source": [
    "data = data.set_index(data.index.astype('datetime64'))"
   ]
  },
  {
   "cell_type": "markdown",
   "metadata": {},
   "source": [
    "### Rename column"
   ]
  },
  {
   "cell_type": "code",
   "execution_count": null,
   "metadata": {
    "collapsed": false
   },
   "outputs": [],
   "source": [
    "data = data.rename(columns = {'_id': 'ID'})"
   ]
  },
  {
   "cell_type": "markdown",
   "metadata": {},
   "source": [
    "## Calculate Change Points"
   ]
  },
  {
   "cell_type": "markdown",
   "metadata": {},
   "source": [
    "The PELT algorithm assumes that the data is univariate (evenly spaced).\n",
    "\n",
    "The stock prices have gaps for holidays and other reasons.\n",
    "\n",
    "Therefore, the gaps must be filled, by interpolated data, before performing the change point analysis."
   ]
  },
  {
   "cell_type": "code",
   "execution_count": null,
   "metadata": {
    "collapsed": false
   },
   "outputs": [],
   "source": [
    "known_dates = data.index.sort_values()"
   ]
  },
  {
   "cell_type": "markdown",
   "metadata": {},
   "source": [
    "### Select the price to do the change point analysis on, i.e. High, Close, Low, Open"
   ]
  },
  {
   "cell_type": "code",
   "execution_count": null,
   "metadata": {
    "collapsed": false
   },
   "outputs": [],
   "source": [
    "price_type = 'High'\n",
    "known_prices = getattr(data, price_type).sort_index().values"
   ]
  },
  {
   "cell_type": "markdown",
   "metadata": {},
   "source": [
    "### Determine all the dates between the first and last piece of data"
   ]
  },
  {
   "cell_type": "code",
   "execution_count": null,
   "metadata": {
    "collapsed": false
   },
   "outputs": [],
   "source": [
    "all_dates = pd.date_range(known_dates[0], known_dates[-1])"
   ]
  },
  {
   "cell_type": "markdown",
   "metadata": {},
   "source": [
    "### Reindex the data with all the dates"
   ]
  },
  {
   "cell_type": "code",
   "execution_count": null,
   "metadata": {
    "collapsed": true
   },
   "outputs": [],
   "source": [
    "all_data = data.reindex(all_dates)"
   ]
  },
  {
   "cell_type": "markdown",
   "metadata": {},
   "source": [
    "### Determine the missing dates"
   ]
  },
  {
   "cell_type": "code",
   "execution_count": null,
   "metadata": {
    "collapsed": false
   },
   "outputs": [],
   "source": [
    "missing_dates = all_dates.difference(known_dates)"
   ]
  },
  {
   "cell_type": "markdown",
   "metadata": {},
   "source": [
    "### Define a wrapper function for the NAG monotonicity preserving interpolating routine"
   ]
  },
  {
   "cell_type": "code",
   "execution_count": null,
   "metadata": {
    "collapsed": false
   },
   "outputs": [],
   "source": [
    "def mono_inter(x, y, missing_dates):\n",
    "    \"\"\"This function calcuates the missing prices from the known dates, known prices and missing dates. \n",
    "        x is the known dates\n",
    "        y is the known prices\n",
    "        md is the missing dates\"\"\"\n",
    "    d = np.zeros(len(x))\n",
    "    fail = util.noisy_fail()\n",
    "    e01.nag_monotonic_interpolant(len(x), x, y, d, fail)\n",
    "    missing_prices = np.zeros(len(missing_dates))\n",
    "    fail = util.noisy_fail()\n",
    "    e01.nag_monotonic_evaluate(len(x), x, y, d, len(missing_dates), missing_dates, missing_prices, fail)\n",
    "    if fail.iflag != 0:\n",
    "        print fail.message\n",
    "    return missing_prices"
   ]
  },
  {
   "cell_type": "markdown",
   "metadata": {},
   "source": [
    "### Calculate the missing prices"
   ]
  },
  {
   "cell_type": "code",
   "execution_count": null,
   "metadata": {
    "collapsed": false
   },
   "outputs": [],
   "source": [
    "missing_prices = mono_inter(known_dates.values.astype(float), known_prices, missing_dates.values.astype(float))"
   ]
  },
  {
   "cell_type": "markdown",
   "metadata": {},
   "source": [
    "### Merge the missing prices and the known data"
   ]
  },
  {
   "cell_type": "code",
   "execution_count": null,
   "metadata": {
    "collapsed": false
   },
   "outputs": [],
   "source": [
    "missing_prices_list = missing_prices.tolist()\n",
    "for row in all_data.iterrows():\n",
    "    if pd.isnull(row[1][price_type]):\n",
    "        all_data.loc[row[0], price_type] = missing_prices_list.pop(0)"
   ]
  },
  {
   "cell_type": "markdown",
   "metadata": {},
   "source": [
    "### Plot the complete dataset"
   ]
  },
  {
   "cell_type": "code",
   "execution_count": null,
   "metadata": {
    "collapsed": false,
    "scrolled": false
   },
   "outputs": [],
   "source": [
    "fig = plt.figure()\n",
    "fig.set_size_inches(16, 10)\n",
    "plt.plot(all_data.index, all_data[price_type], 'g', label = 'Volkswagen')\n",
    "plt.title('Volkswagen Stock Price with Interpolated Values')\n",
    "plt.legend(loc = 2)\n",
    "plt.ylabel('Euro '+u\"(\\u20AC)\")\n",
    "plt.xlabel('Date')\n",
    "plt.show()"
   ]
  },
  {
   "cell_type": "markdown",
   "metadata": {},
   "source": [
    "### Comparison between known data an interpolated data"
   ]
  },
  {
   "cell_type": "code",
   "execution_count": null,
   "metadata": {
    "collapsed": false
   },
   "outputs": [],
   "source": [
    "start = 4000\n",
    "end = 4100\n",
    "s = np.where(all_dates==known_dates[start])[0][0]\n",
    "e = np.where(all_dates==known_dates[end])[0][0]\n",
    "fig = plt.figure()\n",
    "fig.set_size_inches(16, 10)\n",
    "plt.plot(all_data.index[s:e], all_data[price_type][s:e], 'gs-', label = 'Interpolated')\n",
    "plt.plot(known_dates[start:end], known_prices[start:end], 'rs-', label = 'Known Values')\n",
    "plt.title('Volkswagen Stock Price with Interpolated Values and Known Values')\n",
    "plt.legend(loc = 2)\n",
    "plt.ylabel('Euro '+u\"(\\u20AC)\")\n",
    "plt.xlabel('Date')\n",
    "plt.show()"
   ]
  },
  {
   "cell_type": "markdown",
   "metadata": {},
   "source": [
    "## Apply the PELT algorithm to the complete data set"
   ]
  },
  {
   "cell_type": "markdown",
   "metadata": {},
   "source": [
    "### Define some parameters"
   ]
  },
  {
   "cell_type": "code",
   "execution_count": null,
   "metadata": {
    "collapsed": false
   },
   "outputs": [],
   "source": [
    "dist = util.Nag_TS_ChangeType()\n",
    "dist_change_point_type_dict = {'Nag_NormalMean': util.Nag_NormalMean, \n",
    "                              'Nag_NormalStd': util.Nag_NormalStd, \n",
    "                              'Nag_NormalMeanStd': util.Nag_NormalMeanStd, \n",
    "                              'Nag_GammaScale': util.Nag_GammaScale, \n",
    "                              'Nag_ExponentialLambda': util.Nag_ExponentialLambda, \n",
    "                              'Nag_PoissonLambda': util.Nag_PoissonLambda}\n",
    "dist_change_point_type = 'Nag_NormalMean'\n",
    "dist = dist_change_point_type_dict[dist_change_point_type]"
   ]
  },
  {
   "cell_type": "markdown",
   "metadata": {},
   "source": [
    "### Define the penalty term based on the documentation"
   ]
  },
  {
   "cell_type": "code",
   "execution_count": null,
   "metadata": {
    "collapsed": true
   },
   "outputs": [],
   "source": [
    "def penalty_term(dist_change_point_type, time_series_len, penalty_method = 'SIC'):\n",
    "    if dist_change_point_type == 'Nag_NormalMeanStd':\n",
    "        p = 2\n",
    "    else:\n",
    "        p = 1\n",
    "    penalty_method_dict = {'SIC': p * np.log(time_series_len), \n",
    "                           'BIC': p * np.log(time_series_len), \n",
    "                           'AIC': p * 2, \n",
    "                           'Hannan-Quinn': 2 * p * np.log(np.log(time_series_len))}\n",
    "    return penalty_method_dict[penalty_method]"
   ]
  },
  {
   "cell_type": "markdown",
   "metadata": {},
   "source": [
    "###  Calculate the standard deviation and the mean using nag_tsa_mean_range"
   ]
  },
  {
   "cell_type": "code",
   "execution_count": null,
   "metadata": {
    "collapsed": false
   },
   "outputs": [],
   "source": [
    "n = len(all_data[price_type])\n",
    "m = n\n",
    "std = np.zeros(n/m, dtype=np.float64)\n",
    "mean = np.zeros(n/m, dtype=np.float64)\n",
    "fail = util.noisy_fail()\n",
    "g13.nag_tsa_mean_range(len(all_data[price_type]), np.array(all_data[price_type].values), m, util.Nag_UseSD, std, mean, fail)\n",
    "if fail.iflag != 0:\n",
    "    print fail.message"
   ]
  },
  {
   "cell_type": "markdown",
   "metadata": {},
   "source": [
    "### Calculate the changepoints"
   ]
  },
  {
   "cell_type": "code",
   "execution_count": null,
   "metadata": {
    "collapsed": false
   },
   "outputs": [],
   "source": [
    "beta = penalty_term(dist_change_point_type, n, 'SIC')\n",
    "print 'Pentalty Term', beta\n",
    "minss = 2\n",
    "param = np.ndarray(1)\n",
    "if dist_change_point_type == 'Nag_NormalMean':\n",
    "    param[0] = std[0]\n",
    "elif dist_change_point_type == 'Nag_NormalMeanStd':\n",
    "    param[0] = mean[0]\n",
    "else:\n",
    "    param[0] = 0\n",
    "ntau = np.zeros(n, dtype=int)\n",
    "tau = np.zeros(n, dtype=int)\n",
    "sparam = np.zeros(2*n+2)\n",
    "fail = util.noisy_fail()\n",
    "g13.nag_tsa_cp_pelt(dist, n, np.array(all_data[price_type].values), beta, minss, param, ntau, tau, sparam, fail)\n",
    "if fail.iflag != 0:\n",
    "    print fail.message"
   ]
  },
  {
   "cell_type": "markdown",
   "metadata": {},
   "source": [
    "### Store the mean value between the changepoints"
   ]
  },
  {
   "cell_type": "code",
   "execution_count": null,
   "metadata": {
    "collapsed": false
   },
   "outputs": [],
   "source": [
    "m = ntau[0]\n",
    "change_points = [0] + tau[0:m-1].tolist()\n",
    "mean = []\n",
    "std = []\n",
    "for i in range(0, m):\n",
    "    mean.append(sparam[2*(i+1)-2])\n",
    "    std.append(sparam[2*(i+1)-1])\n",
    "#This is to plot the final mean bar\n",
    "change_points.append(len(all_data[price_type].values)-1)\n",
    "std.append(std[-1])\n",
    "mean.append(mean[-1])"
   ]
  },
  {
   "cell_type": "markdown",
   "metadata": {},
   "source": [
    "### Plot the changepoints and the mean value between"
   ]
  },
  {
   "cell_type": "code",
   "execution_count": null,
   "metadata": {
    "collapsed": false
   },
   "outputs": [],
   "source": [
    "fig = plt.figure()\n",
    "fig.set_size_inches(16, 10)\n",
    "plt.plot(all_dates, all_data[price_type].values, 'g', label = 'Stock Price - {}'.format(price_type))\n",
    "for change_point in change_points:\n",
    "    plt.axvline(all_dates[change_point], color = 'r')\n",
    "plt.axvline(all_dates[change_point], color = 'r', label = 'Changepoints')\n",
    "plt.step(all_dates[change_points], mean, where='post', label = 'Mean')\n",
    "plt.title('Volkswagen Stock Price with Interpolated Values and Changepoints')\n",
    "plt.legend()\n",
    "plt.ylabel('Euro '+u\"(\\u20AC)\")\n",
    "plt.xlabel('Date')\n",
    "plt.show()"
   ]
  },
  {
   "cell_type": "markdown",
   "metadata": {},
   "source": [
    "### A plot showing the changepoint that occurred at the time of the recent emissions scandal"
   ]
  },
  {
   "cell_type": "code",
   "execution_count": null,
   "metadata": {
    "collapsed": false
   },
   "outputs": [],
   "source": [
    "fig = plt.figure()\n",
    "fig.set_size_inches(16, 10)\n",
    "plt.plot(all_dates[change_points[-3]:], all_data[price_type].values[change_points[-3]:], 'g', label = 'Stock Price - {}'.format(price_type))\n",
    "for change_point in change_points[-3:]:\n",
    "    plt.axvline(all_dates[change_point], color = 'r')\n",
    "plt.axvline(all_dates[change_point], color = 'r', label = 'Changepoints')\n",
    "plt.step(all_dates[change_points][-3:], mean[-3:], where='post', label='Mean')\n",
    "plt.title('Volkswagen Stock Price with Interpolated Values and Changepoints')\n",
    "plt.legend()\n",
    "plt.ylabel('Euro '+u\"(\\u20AC)\")\n",
    "plt.xlabel('Date')\n",
    "plt.show()"
   ]
  },
  {
   "cell_type": "code",
   "execution_count": null,
   "metadata": {
    "collapsed": false
   },
   "outputs": [],
   "source": [
    "print(\"The change point occurs on the {}.\".format(all_dates[change_points][-3:][1]))"
   ]
  }
 ],
 "metadata": {
  "kernelspec": {
   "display_name": "Python 2",
   "language": "python",
   "name": "python2"
  },
  "language_info": {
   "codemirror_mode": {
    "name": "ipython",
    "version": 2
   },
   "file_extension": ".py",
   "mimetype": "text/x-python",
   "name": "python",
   "nbconvert_exporter": "python",
   "pygments_lexer": "ipython2",
   "version": "2.7.11"
  }
 },
 "nbformat": 4,
 "nbformat_minor": 0
}
